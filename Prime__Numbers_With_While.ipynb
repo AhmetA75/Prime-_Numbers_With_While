{
  "nbformat": 4,
  "nbformat_minor": 0,
  "metadata": {
    "colab": {
      "provenance": [],
      "authorship_tag": "ABX9TyNUUXl39QcBIoRFqzwAbbL3",
      "include_colab_link": true
    },
    "kernelspec": {
      "name": "python3",
      "display_name": "Python 3"
    },
    "language_info": {
      "name": "python"
    }
  },
  "cells": [
    {
      "cell_type": "markdown",
      "metadata": {
        "id": "view-in-github",
        "colab_type": "text"
      },
      "source": [
        "<a href=\"https://colab.research.google.com/github/AhmetA75/Prime-_Numbers_With_While/blob/main/Prime__Numbers_With_While.ipynb\" target=\"_parent\"><img src=\"https://colab.research.google.com/assets/colab-badge.svg\" alt=\"Open In Colab\"/></a>"
      ]
    },
    {
      "cell_type": "code",
      "execution_count": 1,
      "metadata": {
        "colab": {
          "base_uri": "https://localhost:8080/"
        },
        "id": "eQ6Q5tUN79Yh",
        "outputId": "0db15253-884b-473b-86e9-c8708621ae7d"
      },
      "outputs": [
        {
          "output_type": "stream",
          "name": "stdout",
          "text": [
            "True\n"
          ]
        }
      ],
      "source": [
        "def is_prime (num):\n",
        "  if (num<2):\n",
        "    return False\n",
        "  elif (num==2):\n",
        "    return True\n",
        "  elif(num%2 == 0):\n",
        "    return False\n",
        "  i = 2\n",
        "  \n",
        "  while i <= num/2:\n",
        "      if num % i ==0:\n",
        "         \n",
        "         return False\n",
        "      i=i+1\n",
        " # if (num%i == 0):\n",
        "      #return False\n",
        "  return True\n",
        "print(is_prime(7))"
      ]
    }
  ]
}